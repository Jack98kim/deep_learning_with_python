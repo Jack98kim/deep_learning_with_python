{
 "cells": [
  {
   "cell_type": "code",
   "execution_count": 4,
   "metadata": {},
   "outputs": [],
   "source": [
    "#code3-13 로이터 데이터셋을 텍스트로 디코딩하기\n",
    "from keras.datasets import reuters\n",
    "(train_data,train_labels),(test_data,test_labels) = reuters.load_data(num_words=10000)"
   ]
  },
  {
   "cell_type": "code",
   "execution_count": 5,
   "metadata": {},
   "outputs": [],
   "source": [
    "#code 3-13 로이터 데이터셋을 텍스트로 디코딩하기\n",
    "word_index = reuters.get_word_index()\n",
    "reverse_word_index = dict([(value,key) for (key,value) in word_index.items()])\n",
    "decoded_newswire = ' '.join([reverse_word_index.get(i-3,'?') for i in train_data[0]])"
   ]
  },
  {
   "cell_type": "code",
   "execution_count": 6,
   "metadata": {},
   "outputs": [],
   "source": [
    "#code 3-14 데이터 인코딩하기\n",
    "import numpy as np\n",
    "\n",
    "def vectorize_sequences(sequences,dimension=10000):\n",
    "    results = np.zeros((len(sequences), dimension))\n",
    "    for i, sequence in enumerate(sequences):\n",
    "        results[i,sequence] = 1.\n",
    "    return results\n",
    "\n",
    "x_train = vectorize_sequences(train_data)\n",
    "x_test = vectorize_sequences(test_data)"
   ]
  },
  {
   "cell_type": "code",
   "execution_count": 7,
   "metadata": {},
   "outputs": [],
   "source": [
    "def to_one_hot(labels,dimension=46):\n",
    "    results = np.zeros((len(labels),dimension))\n",
    "    for i,label in enumerate(labels):\n",
    "        results[i,label] =1.\n",
    "    return results\n",
    "\n",
    "one_hot_train_labels = to_one_hot(train_labels)\n",
    "one_hot_test_labels = to_one_hot(test_labels)"
   ]
  },
  {
   "cell_type": "code",
   "execution_count": 8,
   "metadata": {},
   "outputs": [
    {
     "name": "stdout",
     "output_type": "stream",
     "text": [
      "Metal device set to: Apple M1 Pro\n",
      "\n",
      "systemMemory: 16.00 GB\n",
      "maxCacheSize: 5.33 GB\n",
      "\n"
     ]
    },
    {
     "name": "stderr",
     "output_type": "stream",
     "text": [
      "2022-07-18 10:20:35.223515: I tensorflow/core/common_runtime/pluggable_device/pluggable_device_factory.cc:305] Could not identify NUMA node of platform GPU ID 0, defaulting to 0. Your kernel may not have been built with NUMA support.\n",
      "2022-07-18 10:20:35.223625: I tensorflow/core/common_runtime/pluggable_device/pluggable_device_factory.cc:271] Created TensorFlow device (/job:localhost/replica:0/task:0/device:GPU:0 with 0 MB memory) -> physical PluggableDevice (device: 0, name: METAL, pci bus id: <undefined>)\n"
     ]
    }
   ],
   "source": [
    "#code3-15 모델 정의하기\n",
    "from keras import models\n",
    "from keras import layers\n",
    "\n",
    "model = models.Sequential()\n",
    "model.add(layers.Dense(64,activation='relu',input_shape=(10000,)))\n",
    "model.add(layers.Dense(64,activation='relu'))\n",
    "model.add(layers.Dense(46,activation='softmax'))"
   ]
  },
  {
   "cell_type": "code",
   "execution_count": 9,
   "metadata": {},
   "outputs": [],
   "source": [
    "#code3-16 모델 컴파일하기\n",
    "model.compile(optimizer='rmsprop',\n",
    "              loss='categorical_crossentropy',\n",
    "              metrics=['accuracy'])"
   ]
  },
  {
   "cell_type": "code",
   "execution_count": 10,
   "metadata": {},
   "outputs": [],
   "source": [
    "#code3-17 검증 세트 준비하기\n",
    "x_val = x_train[:1000]\n",
    "partial_x_train = x_train[1000:]\n",
    "\n",
    "y_val = one_hot_train_labels[:1000]\n",
    "partial_y_train = one_hot_train_labels[1000:]"
   ]
  },
  {
   "cell_type": "code",
   "execution_count": 11,
   "metadata": {},
   "outputs": [
    {
     "name": "stdout",
     "output_type": "stream",
     "text": [
      "Epoch 1/20\n"
     ]
    },
    {
     "name": "stderr",
     "output_type": "stream",
     "text": [
      "2022-07-18 10:20:35.500698: W tensorflow/core/platform/profile_utils/cpu_utils.cc:128] Failed to get CPU frequency: 0 Hz\n"
     ]
    },
    {
     "name": "stdout",
     "output_type": "stream",
     "text": [
      "  7/400 [..............................] - ETA: 3s - loss: 3.5210 - accuracy: 0.3571      "
     ]
    },
    {
     "name": "stderr",
     "output_type": "stream",
     "text": [
      "2022-07-18 10:20:35.718103: I tensorflow/core/grappler/optimizers/custom_graph_optimizer_registry.cc:113] Plugin optimizer for device_type GPU is enabled.\n"
     ]
    },
    {
     "name": "stdout",
     "output_type": "stream",
     "text": [
      "399/400 [============================>.] - ETA: 0s - loss: 1.3737 - accuracy: 0.6977"
     ]
    },
    {
     "name": "stderr",
     "output_type": "stream",
     "text": [
      "2022-07-18 10:20:39.478258: I tensorflow/core/grappler/optimizers/custom_graph_optimizer_registry.cc:113] Plugin optimizer for device_type GPU is enabled.\n"
     ]
    },
    {
     "name": "stdout",
     "output_type": "stream",
     "text": [
      "400/400 [==============================] - 4s 10ms/step - loss: 1.3733 - accuracy: 0.6978 - val_loss: 1.0446 - val_accuracy: 0.7650\n",
      "Epoch 2/20\n",
      "400/400 [==============================] - 4s 9ms/step - loss: 0.7443 - accuracy: 0.8316 - val_loss: 0.9180 - val_accuracy: 0.8180\n",
      "Epoch 3/20\n",
      "400/400 [==============================] - 4s 9ms/step - loss: 0.4782 - accuracy: 0.8970 - val_loss: 0.8900 - val_accuracy: 0.8230\n",
      "Epoch 4/20\n",
      "400/400 [==============================] - 4s 10ms/step - loss: 0.3340 - accuracy: 0.9263 - val_loss: 0.9841 - val_accuracy: 0.8200\n",
      "Epoch 5/20\n",
      "400/400 [==============================] - 4s 10ms/step - loss: 0.2658 - accuracy: 0.9409 - val_loss: 1.1049 - val_accuracy: 0.8100\n",
      "Epoch 6/20\n",
      "400/400 [==============================] - 4s 10ms/step - loss: 0.2272 - accuracy: 0.9465 - val_loss: 1.1504 - val_accuracy: 0.8210\n",
      "Epoch 7/20\n",
      "400/400 [==============================] - 4s 10ms/step - loss: 0.2074 - accuracy: 0.9520 - val_loss: 1.1879 - val_accuracy: 0.7960\n",
      "Epoch 8/20\n",
      "400/400 [==============================] - 4s 10ms/step - loss: 0.1911 - accuracy: 0.9533 - val_loss: 1.3083 - val_accuracy: 0.8070\n",
      "Epoch 9/20\n",
      "400/400 [==============================] - 4s 9ms/step - loss: 0.1769 - accuracy: 0.9538 - val_loss: 1.3362 - val_accuracy: 0.8130\n",
      "Epoch 10/20\n",
      "400/400 [==============================] - 4s 9ms/step - loss: 0.1720 - accuracy: 0.9560 - val_loss: 1.4947 - val_accuracy: 0.7970\n",
      "Epoch 11/20\n",
      "400/400 [==============================] - 4s 10ms/step - loss: 0.1638 - accuracy: 0.9554 - val_loss: 1.5412 - val_accuracy: 0.7950\n",
      "Epoch 12/20\n",
      "400/400 [==============================] - 4s 9ms/step - loss: 0.1599 - accuracy: 0.9557 - val_loss: 1.6026 - val_accuracy: 0.8040\n",
      "Epoch 13/20\n",
      "400/400 [==============================] - 4s 9ms/step - loss: 0.1498 - accuracy: 0.9575 - val_loss: 1.7372 - val_accuracy: 0.7930\n",
      "Epoch 14/20\n",
      "400/400 [==============================] - 4s 9ms/step - loss: 0.1470 - accuracy: 0.9582 - val_loss: 2.2923 - val_accuracy: 0.7810\n",
      "Epoch 15/20\n",
      "400/400 [==============================] - 4s 9ms/step - loss: 0.1449 - accuracy: 0.9578 - val_loss: 1.9151 - val_accuracy: 0.8010\n",
      "Epoch 16/20\n",
      "400/400 [==============================] - 4s 10ms/step - loss: 0.1382 - accuracy: 0.9587 - val_loss: 2.1567 - val_accuracy: 0.7820\n",
      "Epoch 17/20\n",
      "400/400 [==============================] - 4s 10ms/step - loss: 0.1402 - accuracy: 0.9588 - val_loss: 2.1145 - val_accuracy: 0.7790\n",
      "Epoch 18/20\n",
      "400/400 [==============================] - 4s 10ms/step - loss: 0.1295 - accuracy: 0.9589 - val_loss: 2.3054 - val_accuracy: 0.7890\n",
      "Epoch 19/20\n",
      "400/400 [==============================] - 4s 10ms/step - loss: 0.1324 - accuracy: 0.9574 - val_loss: 2.4969 - val_accuracy: 0.7730\n",
      "Epoch 20/20\n",
      "400/400 [==============================] - 4s 10ms/step - loss: 0.1321 - accuracy: 0.9577 - val_loss: 2.5333 - val_accuracy: 0.7750\n"
     ]
    }
   ],
   "source": [
    "#code3-18 모델 훈련하기\n",
    "history = model.fit(partial_x_train,\n",
    "                    partial_y_train,\n",
    "                    epochs=20,\n",
    "                    batch_size=20,\n",
    "                    validation_data=(x_val,y_val))"
   ]
  },
  {
   "cell_type": "code",
   "execution_count": 12,
   "metadata": {},
   "outputs": [
    {
     "data": {
      "image/png": "[encoded data removed]",
      "text/plain": [
       "<Figure size 432x288 with 1 Axes>"
      ]
     },
     "metadata": {
      "needs_background": "light"
     },
     "output_type": "display_data"
    }
   ],
   "source": [
    "#code 3-19 훈련과 검증 손실 그리기\n",
    "import matplotlib.pyplot as plt\n",
    "\n",
    "loss = history.history['loss']\n",
    "val_loss = history.history['val_loss']\n",
    "\n",
    "epochs = range(1,len(loss)+1)\n",
    "\n",
    "plt.plot(epochs,loss,'bo',label='Training_loss')\n",
    "plt.plot(epochs,val_loss,'b',label='Validation_loss')\n",
    "plt.title('Training and validation loss')\n",
    "plt.xlabel('Epochs')\n",
    "plt.ylabel('Loss')\n",
    "plt.legend()\n",
    "\n",
    "plt.show()"
   ]
  },
  {
   "cell_type": "code",
   "execution_count": 13,
   "metadata": {},
   "outputs": [
    {
     "data": {
      "image/png": "[encoded data removed]",
      "text/plain": [
       "<Figure size 432x288 with 1 Axes>"
      ]
     },
     "metadata": {
      "needs_background": "light"
     },
     "output_type": "display_data"
    }
   ],
   "source": [
    "#code 3-20 훈련과 검증 정확도 그리기\n",
    "plt.clf()\n",
    "\n",
    "accuracy = history.history['accuracy']\n",
    "val_accuracy = history.history['val_accuracy']\n",
    "\n",
    "plt.plot(epochs,accuracy,'bo',label='Training_accuracy')\n",
    "plt.plot(epochs,val_accuracy,'b',label='Validation_accuracy')\n",
    "plt.title('Training and validation accuracy')\n",
    "plt.xlabel('Epochs')\n",
    "plt.ylabel('accuracy')\n",
    "plt.legend()\n",
    "\n",
    "plt.show()"
   ]
  },
  {
   "cell_type": "code",
   "execution_count": 14,
   "metadata": {},
   "outputs": [
    {
     "name": "stdout",
     "output_type": "stream",
     "text": [
      "Epoch 1/9\n",
      " 6/16 [==========>...................] - ETA: 0s - loss: 3.2122 - accuracy: 0.4209"
     ]
    },
    {
     "name": "stderr",
     "output_type": "stream",
     "text": [
      "2022-07-18 10:22:09.099274: I tensorflow/core/grappler/optimizers/custom_graph_optimizer_registry.cc:113] Plugin optimizer for device_type GPU is enabled.\n"
     ]
    },
    {
     "name": "stdout",
     "output_type": "stream",
     "text": [
      "16/16 [==============================] - 1s 21ms/step - loss: 2.4287 - accuracy: 0.5417 - val_loss: 1.6438 - val_accuracy: 0.6540\n",
      "Epoch 2/9\n",
      "11/16 [===================>..........] - ETA: 0s - loss: 1.3728 - accuracy: 0.7065"
     ]
    },
    {
     "name": "stderr",
     "output_type": "stream",
     "text": [
      "2022-07-18 10:22:09.492554: I tensorflow/core/grappler/optimizers/custom_graph_optimizer_registry.cc:113] Plugin optimizer for device_type GPU is enabled.\n"
     ]
    },
    {
     "name": "stdout",
     "output_type": "stream",
     "text": [
      "16/16 [==============================] - 0s 12ms/step - loss: 1.3408 - accuracy: 0.7105 - val_loss: 1.2729 - val_accuracy: 0.7110\n",
      "Epoch 3/9\n",
      "16/16 [==============================] - 0s 12ms/step - loss: 0.9986 - accuracy: 0.7791 - val_loss: 1.1123 - val_accuracy: 0.7530\n",
      "Epoch 4/9\n",
      "16/16 [==============================] - 0s 13ms/step - loss: 0.7919 - accuracy: 0.8289 - val_loss: 1.0208 - val_accuracy: 0.7840\n",
      "Epoch 5/9\n",
      "16/16 [==============================] - 0s 12ms/step - loss: 0.6325 - accuracy: 0.8664 - val_loss: 0.9602 - val_accuracy: 0.8040\n",
      "Epoch 6/9\n",
      "16/16 [==============================] - 0s 13ms/step - loss: 0.5082 - accuracy: 0.8940 - val_loss: 0.9454 - val_accuracy: 0.8130\n",
      "Epoch 7/9\n",
      "16/16 [==============================] - 0s 12ms/step - loss: 0.4069 - accuracy: 0.9129 - val_loss: 0.9075 - val_accuracy: 0.8120\n",
      "Epoch 8/9\n",
      "16/16 [==============================] - 0s 12ms/step - loss: 0.3318 - accuracy: 0.9267 - val_loss: 0.9186 - val_accuracy: 0.8110\n",
      "Epoch 9/9\n",
      "16/16 [==============================] - 0s 12ms/step - loss: 0.2754 - accuracy: 0.9410 - val_loss: 0.9184 - val_accuracy: 0.8130\n",
      "71/71 [==============================] - 1s 7ms/step - loss: 1.0055 - accuracy: 0.7774\n"
     ]
    }
   ],
   "source": [
    "#code 3-21 모델을 처음부터 다시 훈련하기\n",
    "model = models.Sequential()\n",
    "model.add(layers.Dense(64,activation='relu',input_shape=(10000,)))\n",
    "model.add(layers.Dense(64,activation='relu'))\n",
    "model.add(layers.Dense(46,activation='softmax'))\n",
    "\n",
    "model.compile(optimizer='rmsprop',\n",
    "              loss='categorical_crossentropy',\n",
    "              metrics=['accuracy'])\n",
    "\n",
    "model.fit(partial_x_train,\n",
    "          partial_y_train,\n",
    "          epochs=9,\n",
    "          batch_size=512,\n",
    "          validation_data=(x_val,y_val))\n",
    "results = model.evaluate(x_test,one_hot_test_labels)"
   ]
  },
  {
   "cell_type": "code",
   "execution_count": 15,
   "metadata": {},
   "outputs": [
    {
     "name": "stdout",
     "output_type": "stream",
     "text": [
      "Epoch 1/20\n",
      " 6/63 [=>............................] - ETA: 0s - loss: 3.7502 - accuracy: 0.0065     "
     ]
    },
    {
     "name": "stderr",
     "output_type": "stream",
     "text": [
      "2022-07-18 10:22:15.962387: I tensorflow/core/grappler/optimizers/custom_graph_optimizer_registry.cc:113] Plugin optimizer for device_type GPU is enabled.\n"
     ]
    },
    {
     "name": "stdout",
     "output_type": "stream",
     "text": [
      "63/63 [==============================] - 1s 13ms/step - loss: 3.0810 - accuracy: 0.2026 - val_loss: 2.4330 - val_accuracy: 0.3910\n",
      "Epoch 2/20\n",
      " 6/63 [=>............................] - ETA: 0s - loss: 2.3970 - accuracy: 0.3867"
     ]
    },
    {
     "name": "stderr",
     "output_type": "stream",
     "text": [
      "2022-07-18 10:22:16.815243: I tensorflow/core/grappler/optimizers/custom_graph_optimizer_registry.cc:113] Plugin optimizer for device_type GPU is enabled.\n"
     ]
    },
    {
     "name": "stdout",
     "output_type": "stream",
     "text": [
      "63/63 [==============================] - 1s 11ms/step - loss: 1.9670 - accuracy: 0.5401 - val_loss: 1.7288 - val_accuracy: 0.5870\n",
      "Epoch 3/20\n",
      "63/63 [==============================] - 1s 11ms/step - loss: 1.5321 - accuracy: 0.6203 - val_loss: 1.5557 - val_accuracy: 0.6210\n",
      "Epoch 4/20\n",
      "63/63 [==============================] - 1s 11ms/step - loss: 1.3196 - accuracy: 0.6639 - val_loss: 1.4517 - val_accuracy: 0.6520\n",
      "Epoch 5/20\n",
      "63/63 [==============================] - 1s 11ms/step - loss: 1.1633 - accuracy: 0.6968 - val_loss: 1.3992 - val_accuracy: 0.6600\n",
      "Epoch 6/20\n",
      "63/63 [==============================] - 1s 11ms/step - loss: 1.0435 - accuracy: 0.7202 - val_loss: 1.3835 - val_accuracy: 0.6730\n",
      "Epoch 7/20\n",
      "63/63 [==============================] - 1s 11ms/step - loss: 0.9449 - accuracy: 0.7472 - val_loss: 1.3683 - val_accuracy: 0.6820\n",
      "Epoch 8/20\n",
      "63/63 [==============================] - 1s 11ms/step - loss: 0.8605 - accuracy: 0.7653 - val_loss: 1.3841 - val_accuracy: 0.6980\n",
      "Epoch 9/20\n",
      "63/63 [==============================] - 1s 11ms/step - loss: 0.7907 - accuracy: 0.7902 - val_loss: 1.4053 - val_accuracy: 0.6990\n",
      "Epoch 10/20\n",
      "63/63 [==============================] - 1s 11ms/step - loss: 0.7284 - accuracy: 0.8103 - val_loss: 1.4530 - val_accuracy: 0.7030\n",
      "Epoch 11/20\n",
      "63/63 [==============================] - 1s 11ms/step - loss: 0.6699 - accuracy: 0.8241 - val_loss: 1.4735 - val_accuracy: 0.7120\n",
      "Epoch 12/20\n",
      "63/63 [==============================] - 1s 11ms/step - loss: 0.6220 - accuracy: 0.8345 - val_loss: 1.5108 - val_accuracy: 0.7020\n",
      "Epoch 13/20\n",
      "63/63 [==============================] - 1s 11ms/step - loss: 0.5834 - accuracy: 0.8384 - val_loss: 1.5918 - val_accuracy: 0.7010\n",
      "Epoch 14/20\n",
      "63/63 [==============================] - 1s 11ms/step - loss: 0.5496 - accuracy: 0.8443 - val_loss: 1.6379 - val_accuracy: 0.7000\n",
      "Epoch 15/20\n",
      "63/63 [==============================] - 1s 11ms/step - loss: 0.5193 - accuracy: 0.8472 - val_loss: 1.7004 - val_accuracy: 0.7040\n",
      "Epoch 16/20\n",
      "63/63 [==============================] - 1s 11ms/step - loss: 0.4940 - accuracy: 0.8527 - val_loss: 1.7266 - val_accuracy: 0.7030\n",
      "Epoch 17/20\n",
      "63/63 [==============================] - 1s 11ms/step - loss: 0.4702 - accuracy: 0.8574 - val_loss: 1.8680 - val_accuracy: 0.6970\n",
      "Epoch 18/20\n",
      "63/63 [==============================] - 1s 11ms/step - loss: 0.4492 - accuracy: 0.8654 - val_loss: 1.8436 - val_accuracy: 0.6980\n",
      "Epoch 19/20\n",
      "63/63 [==============================] - 1s 11ms/step - loss: 0.4302 - accuracy: 0.8728 - val_loss: 1.9217 - val_accuracy: 0.7040\n",
      "Epoch 20/20\n",
      "63/63 [==============================] - 1s 11ms/step - loss: 0.4148 - accuracy: 0.8809 - val_loss: 1.9895 - val_accuracy: 0.7030\n"
     ]
    },
    {
     "data": {
      "text/plain": [
       "<keras.callbacks.History at 0x17ee4b310>"
      ]
     },
     "execution_count": 15,
     "metadata": {},
     "output_type": "execute_result"
    }
   ],
   "source": [
    "#code 3-23 정보 병목이 있는 모델\n",
    "model =models.Sequential()\n",
    "model.add(layers.Dense(64, activation='relu', input_shape=(10000,)))\n",
    "model.add(layers.Dense(4,activation='relu'))\n",
    "model.add(layers.Dense(46,activation='softmax'))\n",
    "\n",
    "model.compile(optimizer='rmsprop',\n",
    "              loss='categorical_crossentropy',\n",
    "              metrics=['accuracy'])\n",
    "model.fit(partial_x_train,\n",
    "          partial_y_train,\n",
    "          epochs=20,\n",
    "          batch_size=128,\n",
    "          validation_data=(x_val,y_val))"
   ]
  },
  {
   "cell_type": "code",
   "execution_count": null,
   "metadata": {},
   "outputs": [],
   "source": []
  }
 ],
 "metadata": {
  "kernelspec": {
   "display_name": "Python 3.9.12 ('conda_venv')",
   "language": "python",
   "name": "python3"
  },
  "language_info": {
   "codemirror_mode": {
    "name": "ipython",
    "version": 3
   },
   "file_extension": ".py",
   "mimetype": "text/x-python",
   "name": "python",
   "nbconvert_exporter": "python",
   "pygments_lexer": "ipython3",
   "version": "3.9.12"
  },
  "orig_nbformat": 4,
  "vscode": {
   "interpreter": {
    "hash": "74769a752f16502d46b14fa27e5b46a56a4131316c7155624823353e59eb8bf6"
   }
  }
 },
 "nbformat": 4,
 "nbformat_minor": 2
}

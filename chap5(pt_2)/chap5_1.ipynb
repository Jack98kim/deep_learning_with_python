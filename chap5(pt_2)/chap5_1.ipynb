{
 "cells": [
  {
   "cell_type": "code",
   "execution_count": null,
   "metadata": {},
   "outputs": [],
   "source": [
    "#code 5-1 간단한 컴브넷 만들기\n",
    "from keras import layers\n",
    "from keras import models\n",
    "\n",
    "# Conv2D(output_depth,(window_height,window_width))\n",
    "model = models.Sequential()\n",
    "model.add(layers.Conv2D(32,(3,3),activation='relu',input_shape=(28,28,1)))\n",
    "# (28,28,1) -> (26,26,32)\n",
    "model.add(layers.MaxPool2D(2,2))\n",
    "# (26,26,32) -> (13,13,32)\n",
    "model.add(layers.Conv2D(64,(3,3),activation='relu'))\n",
    "# (13,13,32) -> (11,11,64)\n",
    "model.add(layers.MaxPool2D(2,2))\n",
    "# (11,11,64) -> (5,5,64)\n",
    "model.add(layers.Conv2D(64,(3,3),activation='relu'))\n",
    "# (5,5,64) -> (3,3,64)"
   ]
  },
  {
   "cell_type": "code",
   "execution_count": null,
   "metadata": {},
   "outputs": [],
   "source": [
    "#code 5-2 컨브넷 위에 분류기 추가하기\n",
    "model.add(layers.Flatten())\n",
    "# (3,3,64) -> (3*3*64) = (576)\n",
    "model.add(layers.Dense(64,activation='relu'))\n",
    "# 575 -> 64\n",
    "model.add(layers.Dense(10,activation='softmax'))\n",
    "# 64 -> 10"
   ]
  },
  {
   "cell_type": "code",
   "execution_count": null,
   "metadata": {},
   "outputs": [],
   "source": [
    "#code5-3 MNIST 이미지에 컨브넷 훈련하기\n",
    "from keras.datasets import mnist\n",
    "from keras.utils import to_categorical\n",
    "\n",
    "(train_images,train_labels),(test_images,test_labels) = mnist.load_data()\n",
    "\n",
    "train_images = train_images.reshape((60000,28,28,1))\n",
    "train_images = train_images.astype('float32')/255\n",
    "\n",
    "test_images = test_images.reshape((10000,28,28,1))\n",
    "test_images = test_images.astype('float32')/255\n",
    "\n",
    "train_labels = to_categorical(train_labels)\n",
    "test_labels = to_categorical(test_labels)\n",
    "\n",
    "model.compile(optimizer='rmsprop',\n",
    "              loss = 'categorical_crossentropy',\n",
    "              metrics=['accuracy'])\n",
    "\n",
    "model.fit(train_images,train_labels,epochs=5,batch_size=64)"
   ]
  }
 ],
 "metadata": {
  "kernelspec": {
   "display_name": "Python 3.9.12 ('conda_venv')",
   "language": "python",
   "name": "python3"
  },
  "language_info": {
   "codemirror_mode": {
    "name": "ipython",
    "version": 3
   },
   "file_extension": ".py",
   "mimetype": "text/x-python",
   "name": "python",
   "nbconvert_exporter": "python",
   "pygments_lexer": "ipython3",
   "version": "3.9.12"
  },
  "orig_nbformat": 4,
  "vscode": {
   "interpreter": {
    "hash": "74769a752f16502d46b14fa27e5b46a56a4131316c7155624823353e59eb8bf6"
   }
  }
 },
 "nbformat": 4,
 "nbformat_minor": 2
}
